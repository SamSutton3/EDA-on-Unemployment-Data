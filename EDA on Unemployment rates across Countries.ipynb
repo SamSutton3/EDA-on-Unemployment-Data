{
 "cells": [
  {
   "cell_type": "markdown",
   "id": "ebdc1f7a",
   "metadata": {},
   "source": [
    "# EDA on Unemployment rates across Countries"
   ]
  },
  {
   "cell_type": "markdown",
   "id": "72ab4176",
   "metadata": {},
   "source": [
    "## Data Gathering"
   ]
  },
  {
   "cell_type": "markdown",
   "id": "c3966069",
   "metadata": {},
   "source": [
    "Sets the Window to the Full Screen Size in Jupyter Notebook"
   ]
  },
  {
   "cell_type": "code",
   "execution_count": 1,
   "id": "2dddc865",
   "metadata": {},
   "outputs": [
    {
     "data": {
      "text/html": [
       "<style>.container { width:100% !important; }</style>"
      ],
      "text/plain": [
       "<IPython.core.display.HTML object>"
      ]
     },
     "metadata": {},
     "output_type": "display_data"
    }
   ],
   "source": [
    "from IPython.core.display import display, HTML\n",
    "display(HTML(\"<style>.container { width:100% !important; }</style>\"))"
   ]
  },
  {
   "cell_type": "markdown",
   "id": "390bdb56",
   "metadata": {},
   "source": [
    "Imports the pandas library"
   ]
  },
  {
   "cell_type": "code",
   "execution_count": 2,
   "id": "9988949a",
   "metadata": {},
   "outputs": [],
   "source": [
    "import pandas as pd"
   ]
  },
  {
   "cell_type": "markdown",
   "id": "30877601",
   "metadata": {},
   "source": [
    "The following lines of code, read in two CSV files (Unemployment Data and Countries Data) that are stored in the data folder. This used the `read_csv` function from the Pandas library, that was imported in the line above."
   ]
  },
  {
   "cell_type": "code",
   "execution_count": 3,
   "id": "4ac0edd0",
   "metadata": {},
   "outputs": [],
   "source": [
    "unemployment = pd.read_csv('data/country_total.csv')\n",
    "countries = pd.read_csv('data/countries.csv')"
   ]
  },
  {
   "cell_type": "markdown",
   "id": "803b29df",
   "metadata": {},
   "source": [
    "## Data preprocessing"
   ]
  },
  {
   "cell_type": "markdown",
   "id": "cff3e345",
   "metadata": {},
   "source": [
    "After the intial collection of data, it is important to assess the data that exists in the two `Data Frames` that we have loaded. \n",
    "\n",
    "Useful functions, include:\n",
    "- `Head`\n",
    "- `Shape`\n",
    "- `dtypes`\n",
    "- `describe`"
   ]
  },
  {
   "cell_type": "code",
   "execution_count": 4,
   "id": "a9802df0",
   "metadata": {},
   "outputs": [
    {
     "data": {
      "text/html": [
       "<div>\n",
       "<style scoped>\n",
       "    .dataframe tbody tr th:only-of-type {\n",
       "        vertical-align: middle;\n",
       "    }\n",
       "\n",
       "    .dataframe tbody tr th {\n",
       "        vertical-align: top;\n",
       "    }\n",
       "\n",
       "    .dataframe thead th {\n",
       "        text-align: right;\n",
       "    }\n",
       "</style>\n",
       "<table border=\"1\" class=\"dataframe\">\n",
       "  <thead>\n",
       "    <tr style=\"text-align: right;\">\n",
       "      <th></th>\n",
       "      <th>country</th>\n",
       "      <th>seasonality</th>\n",
       "      <th>month</th>\n",
       "      <th>unemployment</th>\n",
       "      <th>unemployment_rate</th>\n",
       "    </tr>\n",
       "  </thead>\n",
       "  <tbody>\n",
       "    <tr>\n",
       "      <th>0</th>\n",
       "      <td>at</td>\n",
       "      <td>nsa</td>\n",
       "      <td>1993.01</td>\n",
       "      <td>171000</td>\n",
       "      <td>4.5</td>\n",
       "    </tr>\n",
       "    <tr>\n",
       "      <th>1</th>\n",
       "      <td>at</td>\n",
       "      <td>nsa</td>\n",
       "      <td>1993.02</td>\n",
       "      <td>175000</td>\n",
       "      <td>4.6</td>\n",
       "    </tr>\n",
       "    <tr>\n",
       "      <th>2</th>\n",
       "      <td>at</td>\n",
       "      <td>nsa</td>\n",
       "      <td>1993.03</td>\n",
       "      <td>166000</td>\n",
       "      <td>4.4</td>\n",
       "    </tr>\n",
       "    <tr>\n",
       "      <th>3</th>\n",
       "      <td>at</td>\n",
       "      <td>nsa</td>\n",
       "      <td>1993.04</td>\n",
       "      <td>157000</td>\n",
       "      <td>4.1</td>\n",
       "    </tr>\n",
       "    <tr>\n",
       "      <th>4</th>\n",
       "      <td>at</td>\n",
       "      <td>nsa</td>\n",
       "      <td>1993.05</td>\n",
       "      <td>147000</td>\n",
       "      <td>3.9</td>\n",
       "    </tr>\n",
       "    <tr>\n",
       "      <th>5</th>\n",
       "      <td>at</td>\n",
       "      <td>nsa</td>\n",
       "      <td>1993.06</td>\n",
       "      <td>134000</td>\n",
       "      <td>3.5</td>\n",
       "    </tr>\n",
       "    <tr>\n",
       "      <th>6</th>\n",
       "      <td>at</td>\n",
       "      <td>nsa</td>\n",
       "      <td>1993.07</td>\n",
       "      <td>128000</td>\n",
       "      <td>3.4</td>\n",
       "    </tr>\n",
       "    <tr>\n",
       "      <th>7</th>\n",
       "      <td>at</td>\n",
       "      <td>nsa</td>\n",
       "      <td>1993.08</td>\n",
       "      <td>130000</td>\n",
       "      <td>3.4</td>\n",
       "    </tr>\n",
       "    <tr>\n",
       "      <th>8</th>\n",
       "      <td>at</td>\n",
       "      <td>nsa</td>\n",
       "      <td>1993.09</td>\n",
       "      <td>132000</td>\n",
       "      <td>3.5</td>\n",
       "    </tr>\n",
       "    <tr>\n",
       "      <th>9</th>\n",
       "      <td>at</td>\n",
       "      <td>nsa</td>\n",
       "      <td>1993.10</td>\n",
       "      <td>141000</td>\n",
       "      <td>3.7</td>\n",
       "    </tr>\n",
       "  </tbody>\n",
       "</table>\n",
       "</div>"
      ],
      "text/plain": [
       "  country seasonality    month  unemployment  unemployment_rate\n",
       "0      at         nsa  1993.01        171000                4.5\n",
       "1      at         nsa  1993.02        175000                4.6\n",
       "2      at         nsa  1993.03        166000                4.4\n",
       "3      at         nsa  1993.04        157000                4.1\n",
       "4      at         nsa  1993.05        147000                3.9\n",
       "5      at         nsa  1993.06        134000                3.5\n",
       "6      at         nsa  1993.07        128000                3.4\n",
       "7      at         nsa  1993.08        130000                3.4\n",
       "8      at         nsa  1993.09        132000                3.5\n",
       "9      at         nsa  1993.10        141000                3.7"
      ]
     },
     "execution_count": 4,
     "metadata": {},
     "output_type": "execute_result"
    }
   ],
   "source": [
    "unemployment.head(10)"
   ]
  },
  {
   "cell_type": "code",
   "execution_count": 5,
   "id": "0a38ba31",
   "metadata": {},
   "outputs": [
    {
     "data": {
      "text/plain": [
       "(20796, 5)"
      ]
     },
     "execution_count": 5,
     "metadata": {},
     "output_type": "execute_result"
    }
   ],
   "source": [
    "unemployment.shape"
   ]
  },
  {
   "cell_type": "code",
   "execution_count": 6,
   "id": "9ee19ab5",
   "metadata": {},
   "outputs": [
    {
     "data": {
      "text/plain": [
       "country               object\n",
       "seasonality           object\n",
       "month                float64\n",
       "unemployment           int64\n",
       "unemployment_rate    float64\n",
       "dtype: object"
      ]
     },
     "execution_count": 6,
     "metadata": {},
     "output_type": "execute_result"
    }
   ],
   "source": [
    "unemployment.dtypes"
   ]
  },
  {
   "cell_type": "code",
   "execution_count": 7,
   "id": "8950bb6a",
   "metadata": {},
   "outputs": [
    {
     "data": {
      "text/html": [
       "<div>\n",
       "<style scoped>\n",
       "    .dataframe tbody tr th:only-of-type {\n",
       "        vertical-align: middle;\n",
       "    }\n",
       "\n",
       "    .dataframe tbody tr th {\n",
       "        vertical-align: top;\n",
       "    }\n",
       "\n",
       "    .dataframe thead th {\n",
       "        text-align: right;\n",
       "    }\n",
       "</style>\n",
       "<table border=\"1\" class=\"dataframe\">\n",
       "  <thead>\n",
       "    <tr style=\"text-align: right;\">\n",
       "      <th></th>\n",
       "      <th>month</th>\n",
       "      <th>unemployment</th>\n",
       "      <th>unemployment_rate</th>\n",
       "    </tr>\n",
       "  </thead>\n",
       "  <tbody>\n",
       "    <tr>\n",
       "      <th>count</th>\n",
       "      <td>20796.000000</td>\n",
       "      <td>2.079600e+04</td>\n",
       "      <td>19851.000000</td>\n",
       "    </tr>\n",
       "    <tr>\n",
       "      <th>mean</th>\n",
       "      <td>1999.401290</td>\n",
       "      <td>7.900818e+05</td>\n",
       "      <td>8.179764</td>\n",
       "    </tr>\n",
       "    <tr>\n",
       "      <th>std</th>\n",
       "      <td>7.483751</td>\n",
       "      <td>1.015280e+06</td>\n",
       "      <td>3.922533</td>\n",
       "    </tr>\n",
       "    <tr>\n",
       "      <th>min</th>\n",
       "      <td>1983.010000</td>\n",
       "      <td>2.000000e+03</td>\n",
       "      <td>1.100000</td>\n",
       "    </tr>\n",
       "    <tr>\n",
       "      <th>25%</th>\n",
       "      <td>1994.090000</td>\n",
       "      <td>1.400000e+05</td>\n",
       "      <td>5.200000</td>\n",
       "    </tr>\n",
       "    <tr>\n",
       "      <th>50%</th>\n",
       "      <td>2001.010000</td>\n",
       "      <td>3.100000e+05</td>\n",
       "      <td>7.600000</td>\n",
       "    </tr>\n",
       "    <tr>\n",
       "      <th>75%</th>\n",
       "      <td>2006.010000</td>\n",
       "      <td>1.262250e+06</td>\n",
       "      <td>10.000000</td>\n",
       "    </tr>\n",
       "    <tr>\n",
       "      <th>max</th>\n",
       "      <td>2010.120000</td>\n",
       "      <td>4.773000e+06</td>\n",
       "      <td>20.900000</td>\n",
       "    </tr>\n",
       "  </tbody>\n",
       "</table>\n",
       "</div>"
      ],
      "text/plain": [
       "              month  unemployment  unemployment_rate\n",
       "count  20796.000000  2.079600e+04       19851.000000\n",
       "mean    1999.401290  7.900818e+05           8.179764\n",
       "std        7.483751  1.015280e+06           3.922533\n",
       "min     1983.010000  2.000000e+03           1.100000\n",
       "25%     1994.090000  1.400000e+05           5.200000\n",
       "50%     2001.010000  3.100000e+05           7.600000\n",
       "75%     2006.010000  1.262250e+06          10.000000\n",
       "max     2010.120000  4.773000e+06          20.900000"
      ]
     },
     "execution_count": 7,
     "metadata": {},
     "output_type": "execute_result"
    }
   ],
   "source": [
    "unemployment.describe()"
   ]
  },
  {
   "cell_type": "markdown",
   "id": "c56ac2e4",
   "metadata": {},
   "source": [
    "We can also do these for our second Data Frame."
   ]
  },
  {
   "cell_type": "code",
   "execution_count": 8,
   "id": "8fbe2ea0",
   "metadata": {},
   "outputs": [
    {
     "data": {
      "text/html": [
       "<div>\n",
       "<style scoped>\n",
       "    .dataframe tbody tr th:only-of-type {\n",
       "        vertical-align: middle;\n",
       "    }\n",
       "\n",
       "    .dataframe tbody tr th {\n",
       "        vertical-align: top;\n",
       "    }\n",
       "\n",
       "    .dataframe thead th {\n",
       "        text-align: right;\n",
       "    }\n",
       "</style>\n",
       "<table border=\"1\" class=\"dataframe\">\n",
       "  <thead>\n",
       "    <tr style=\"text-align: right;\">\n",
       "      <th></th>\n",
       "      <th>country</th>\n",
       "      <th>google_country_code</th>\n",
       "      <th>country_group</th>\n",
       "      <th>name_en</th>\n",
       "      <th>name_fr</th>\n",
       "      <th>name_de</th>\n",
       "      <th>latitude</th>\n",
       "      <th>longitude</th>\n",
       "    </tr>\n",
       "  </thead>\n",
       "  <tbody>\n",
       "    <tr>\n",
       "      <th>0</th>\n",
       "      <td>at</td>\n",
       "      <td>AT</td>\n",
       "      <td>eu</td>\n",
       "      <td>Austria</td>\n",
       "      <td>Autriche</td>\n",
       "      <td>Österreich</td>\n",
       "      <td>47.696554</td>\n",
       "      <td>13.345980</td>\n",
       "    </tr>\n",
       "    <tr>\n",
       "      <th>1</th>\n",
       "      <td>be</td>\n",
       "      <td>BE</td>\n",
       "      <td>eu</td>\n",
       "      <td>Belgium</td>\n",
       "      <td>Belgique</td>\n",
       "      <td>Belgien</td>\n",
       "      <td>50.501045</td>\n",
       "      <td>4.476674</td>\n",
       "    </tr>\n",
       "    <tr>\n",
       "      <th>2</th>\n",
       "      <td>bg</td>\n",
       "      <td>BG</td>\n",
       "      <td>eu</td>\n",
       "      <td>Bulgaria</td>\n",
       "      <td>Bulgarie</td>\n",
       "      <td>Bulgarien</td>\n",
       "      <td>42.725674</td>\n",
       "      <td>25.482322</td>\n",
       "    </tr>\n",
       "    <tr>\n",
       "      <th>3</th>\n",
       "      <td>hr</td>\n",
       "      <td>HR</td>\n",
       "      <td>non-eu</td>\n",
       "      <td>Croatia</td>\n",
       "      <td>Croatie</td>\n",
       "      <td>Kroatien</td>\n",
       "      <td>44.746643</td>\n",
       "      <td>15.340844</td>\n",
       "    </tr>\n",
       "    <tr>\n",
       "      <th>4</th>\n",
       "      <td>cy</td>\n",
       "      <td>CY</td>\n",
       "      <td>eu</td>\n",
       "      <td>Cyprus</td>\n",
       "      <td>Chypre</td>\n",
       "      <td>Zypern</td>\n",
       "      <td>35.129141</td>\n",
       "      <td>33.428682</td>\n",
       "    </tr>\n",
       "    <tr>\n",
       "      <th>5</th>\n",
       "      <td>cz</td>\n",
       "      <td>CZ</td>\n",
       "      <td>eu</td>\n",
       "      <td>Czech Republic</td>\n",
       "      <td>République tchèque</td>\n",
       "      <td>Tschechische Republik</td>\n",
       "      <td>49.803531</td>\n",
       "      <td>15.474998</td>\n",
       "    </tr>\n",
       "    <tr>\n",
       "      <th>6</th>\n",
       "      <td>dk</td>\n",
       "      <td>DK</td>\n",
       "      <td>eu</td>\n",
       "      <td>Denmark</td>\n",
       "      <td>Danemark</td>\n",
       "      <td>Dänemark</td>\n",
       "      <td>55.939684</td>\n",
       "      <td>9.516689</td>\n",
       "    </tr>\n",
       "    <tr>\n",
       "      <th>7</th>\n",
       "      <td>ee</td>\n",
       "      <td>EE</td>\n",
       "      <td>eu</td>\n",
       "      <td>Estonia</td>\n",
       "      <td>Estonie</td>\n",
       "      <td>Estland</td>\n",
       "      <td>58.592469</td>\n",
       "      <td>25.806950</td>\n",
       "    </tr>\n",
       "    <tr>\n",
       "      <th>8</th>\n",
       "      <td>fi</td>\n",
       "      <td>FI</td>\n",
       "      <td>eu</td>\n",
       "      <td>Finland</td>\n",
       "      <td>Finlande</td>\n",
       "      <td>Finnland</td>\n",
       "      <td>64.950159</td>\n",
       "      <td>26.067564</td>\n",
       "    </tr>\n",
       "    <tr>\n",
       "      <th>9</th>\n",
       "      <td>fr</td>\n",
       "      <td>FR</td>\n",
       "      <td>eu</td>\n",
       "      <td>France</td>\n",
       "      <td>France</td>\n",
       "      <td>Frankreich</td>\n",
       "      <td>46.710994</td>\n",
       "      <td>1.718561</td>\n",
       "    </tr>\n",
       "  </tbody>\n",
       "</table>\n",
       "</div>"
      ],
      "text/plain": [
       "  country google_country_code country_group         name_en  \\\n",
       "0      at                  AT            eu         Austria   \n",
       "1      be                  BE            eu         Belgium   \n",
       "2      bg                  BG            eu        Bulgaria   \n",
       "3      hr                  HR        non-eu         Croatia   \n",
       "4      cy                  CY            eu          Cyprus   \n",
       "5      cz                  CZ            eu  Czech Republic   \n",
       "6      dk                  DK            eu         Denmark   \n",
       "7      ee                  EE            eu         Estonia   \n",
       "8      fi                  FI            eu         Finland   \n",
       "9      fr                  FR            eu          France   \n",
       "\n",
       "              name_fr                name_de   latitude  longitude  \n",
       "0            Autriche             Österreich  47.696554  13.345980  \n",
       "1            Belgique                Belgien  50.501045   4.476674  \n",
       "2            Bulgarie              Bulgarien  42.725674  25.482322  \n",
       "3             Croatie               Kroatien  44.746643  15.340844  \n",
       "4              Chypre                 Zypern  35.129141  33.428682  \n",
       "5  République tchèque  Tschechische Republik  49.803531  15.474998  \n",
       "6            Danemark               Dänemark  55.939684   9.516689  \n",
       "7             Estonie                Estland  58.592469  25.806950  \n",
       "8            Finlande               Finnland  64.950159  26.067564  \n",
       "9              France             Frankreich  46.710994   1.718561  "
      ]
     },
     "execution_count": 8,
     "metadata": {},
     "output_type": "execute_result"
    }
   ],
   "source": [
    "countries.head(10)"
   ]
  },
  {
   "cell_type": "code",
   "execution_count": 9,
   "id": "a014471f",
   "metadata": {},
   "outputs": [
    {
     "data": {
      "text/plain": [
       "(30, 8)"
      ]
     },
     "execution_count": 9,
     "metadata": {},
     "output_type": "execute_result"
    }
   ],
   "source": [
    "countries.shape"
   ]
  },
  {
   "cell_type": "code",
   "execution_count": 10,
   "id": "a880ae34",
   "metadata": {},
   "outputs": [
    {
     "data": {
      "text/plain": [
       "country                 object\n",
       "google_country_code     object\n",
       "country_group           object\n",
       "name_en                 object\n",
       "name_fr                 object\n",
       "name_de                 object\n",
       "latitude               float64\n",
       "longitude              float64\n",
       "dtype: object"
      ]
     },
     "execution_count": 10,
     "metadata": {},
     "output_type": "execute_result"
    }
   ],
   "source": [
    "countries.dtypes"
   ]
  },
  {
   "cell_type": "code",
   "execution_count": 11,
   "id": "2cad9e2b",
   "metadata": {},
   "outputs": [
    {
     "data": {
      "text/html": [
       "<div>\n",
       "<style scoped>\n",
       "    .dataframe tbody tr th:only-of-type {\n",
       "        vertical-align: middle;\n",
       "    }\n",
       "\n",
       "    .dataframe tbody tr th {\n",
       "        vertical-align: top;\n",
       "    }\n",
       "\n",
       "    .dataframe thead th {\n",
       "        text-align: right;\n",
       "    }\n",
       "</style>\n",
       "<table border=\"1\" class=\"dataframe\">\n",
       "  <thead>\n",
       "    <tr style=\"text-align: right;\">\n",
       "      <th></th>\n",
       "      <th>latitude</th>\n",
       "      <th>longitude</th>\n",
       "    </tr>\n",
       "  </thead>\n",
       "  <tbody>\n",
       "    <tr>\n",
       "      <th>count</th>\n",
       "      <td>30.000000</td>\n",
       "      <td>30.000000</td>\n",
       "    </tr>\n",
       "    <tr>\n",
       "      <th>mean</th>\n",
       "      <td>49.092609</td>\n",
       "      <td>14.324579</td>\n",
       "    </tr>\n",
       "    <tr>\n",
       "      <th>std</th>\n",
       "      <td>7.956624</td>\n",
       "      <td>11.257010</td>\n",
       "    </tr>\n",
       "    <tr>\n",
       "      <th>min</th>\n",
       "      <td>35.129141</td>\n",
       "      <td>-8.239122</td>\n",
       "    </tr>\n",
       "    <tr>\n",
       "      <th>25%</th>\n",
       "      <td>43.230916</td>\n",
       "      <td>6.979186</td>\n",
       "    </tr>\n",
       "    <tr>\n",
       "      <th>50%</th>\n",
       "      <td>49.238087</td>\n",
       "      <td>14.941462</td>\n",
       "    </tr>\n",
       "    <tr>\n",
       "      <th>75%</th>\n",
       "      <td>54.090400</td>\n",
       "      <td>23.351690</td>\n",
       "    </tr>\n",
       "    <tr>\n",
       "      <th>max</th>\n",
       "      <td>64.950159</td>\n",
       "      <td>35.439795</td>\n",
       "    </tr>\n",
       "  </tbody>\n",
       "</table>\n",
       "</div>"
      ],
      "text/plain": [
       "        latitude  longitude\n",
       "count  30.000000  30.000000\n",
       "mean   49.092609  14.324579\n",
       "std     7.956624  11.257010\n",
       "min    35.129141  -8.239122\n",
       "25%    43.230916   6.979186\n",
       "50%    49.238087  14.941462\n",
       "75%    54.090400  23.351690\n",
       "max    64.950159  35.439795"
      ]
     },
     "execution_count": 11,
     "metadata": {},
     "output_type": "execute_result"
    }
   ],
   "source": [
    "countries.describe()"
   ]
  },
  {
   "cell_type": "markdown",
   "id": "081f0794",
   "metadata": {},
   "source": [
    "These four functions offer a simple insight into of our DFs.\n",
    "\n",
    "- `head` - Retrieves the top rows of the DF\n",
    "- `shape` - Retrieves the dimensions of the DF\n",
    "- `dtypes`- Retrieves the data types of the DF\n",
    "- `describe` - Retrieves statistics for the numerical based data types of the DF"
   ]
  },
  {
   "cell_type": "markdown",
   "id": "69665070",
   "metadata": {},
   "source": [
    "## Feature Engineering"
   ]
  },
  {
   "cell_type": "markdown",
   "id": "a5b16dc0",
   "metadata": {},
   "source": [
    "Feature Engineering appears earlier than normal for a standard ML process, but here it is good so that we can adjust the `month` column from the `Unemployment` Data Frame.\n",
    "\n",
    "The code below, includes renaming the existing column to an appropriate name and inserts new columns for both `month` and `year`. The `year` column is generated by using the `astype(int)` function that extracts the year as the value before the decimal point. The `month` column is generated by subtracting `year` from `year_month` that would leave a decimal indicating the month of the year. This decimal is multiplied by 100 and then rounded to the nearest whole number due to the Floating Point Problem in binary."
   ]
  },
  {
   "cell_type": "code",
   "execution_count": 12,
   "id": "5ed8d221",
   "metadata": {},
   "outputs": [
    {
     "data": {
      "text/html": [
       "<div>\n",
       "<style scoped>\n",
       "    .dataframe tbody tr th:only-of-type {\n",
       "        vertical-align: middle;\n",
       "    }\n",
       "\n",
       "    .dataframe tbody tr th {\n",
       "        vertical-align: top;\n",
       "    }\n",
       "\n",
       "    .dataframe thead th {\n",
       "        text-align: right;\n",
       "    }\n",
       "</style>\n",
       "<table border=\"1\" class=\"dataframe\">\n",
       "  <thead>\n",
       "    <tr style=\"text-align: right;\">\n",
       "      <th></th>\n",
       "      <th>country</th>\n",
       "      <th>seasonality</th>\n",
       "      <th>year_month</th>\n",
       "      <th>unemployment</th>\n",
       "      <th>unemployment_rate</th>\n",
       "      <th>year</th>\n",
       "      <th>month</th>\n",
       "    </tr>\n",
       "  </thead>\n",
       "  <tbody>\n",
       "    <tr>\n",
       "      <th>0</th>\n",
       "      <td>at</td>\n",
       "      <td>nsa</td>\n",
       "      <td>1993.01</td>\n",
       "      <td>171000</td>\n",
       "      <td>4.5</td>\n",
       "      <td>1993</td>\n",
       "      <td>1</td>\n",
       "    </tr>\n",
       "    <tr>\n",
       "      <th>1</th>\n",
       "      <td>at</td>\n",
       "      <td>nsa</td>\n",
       "      <td>1993.02</td>\n",
       "      <td>175000</td>\n",
       "      <td>4.6</td>\n",
       "      <td>1993</td>\n",
       "      <td>2</td>\n",
       "    </tr>\n",
       "    <tr>\n",
       "      <th>2</th>\n",
       "      <td>at</td>\n",
       "      <td>nsa</td>\n",
       "      <td>1993.03</td>\n",
       "      <td>166000</td>\n",
       "      <td>4.4</td>\n",
       "      <td>1993</td>\n",
       "      <td>3</td>\n",
       "    </tr>\n",
       "    <tr>\n",
       "      <th>3</th>\n",
       "      <td>at</td>\n",
       "      <td>nsa</td>\n",
       "      <td>1993.04</td>\n",
       "      <td>157000</td>\n",
       "      <td>4.1</td>\n",
       "      <td>1993</td>\n",
       "      <td>4</td>\n",
       "    </tr>\n",
       "    <tr>\n",
       "      <th>4</th>\n",
       "      <td>at</td>\n",
       "      <td>nsa</td>\n",
       "      <td>1993.05</td>\n",
       "      <td>147000</td>\n",
       "      <td>3.9</td>\n",
       "      <td>1993</td>\n",
       "      <td>5</td>\n",
       "    </tr>\n",
       "  </tbody>\n",
       "</table>\n",
       "</div>"
      ],
      "text/plain": [
       "  country seasonality  year_month  unemployment  unemployment_rate  year  \\\n",
       "0      at         nsa     1993.01        171000                4.5  1993   \n",
       "1      at         nsa     1993.02        175000                4.6  1993   \n",
       "2      at         nsa     1993.03        166000                4.4  1993   \n",
       "3      at         nsa     1993.04        157000                4.1  1993   \n",
       "4      at         nsa     1993.05        147000                3.9  1993   \n",
       "\n",
       "   month  \n",
       "0      1  \n",
       "1      2  \n",
       "2      3  \n",
       "3      4  \n",
       "4      5  "
      ]
     },
     "execution_count": 12,
     "metadata": {},
     "output_type": "execute_result"
    }
   ],
   "source": [
    "unemployment['year'] = unemployment['month'].astype(int)\n",
    "unemployment.rename(columns={'month' : 'year_month'}, inplace=True)\n",
    "unemployment['month'] = ((unemployment['year_month'] - unemployment['year']) * 100).round(0).astype(int)\n",
    "unemployment.head(5)"
   ]
  },
  {
   "cell_type": "markdown",
   "id": "44a8b8c5",
   "metadata": {},
   "source": [
    "The `countries` Data Frame can be used to add more value to the `unemployment` Data Frame. Both DFs have a similar column called `country`, which can be used to merge both DFs together. Additonally, we can drop the unneeded columns from the `countries` DF."
   ]
  },
  {
   "cell_type": "code",
   "execution_count": 13,
   "id": "cd2072d0",
   "metadata": {},
   "outputs": [
    {
     "data": {
      "text/html": [
       "<div>\n",
       "<style scoped>\n",
       "    .dataframe tbody tr th:only-of-type {\n",
       "        vertical-align: middle;\n",
       "    }\n",
       "\n",
       "    .dataframe tbody tr th {\n",
       "        vertical-align: top;\n",
       "    }\n",
       "\n",
       "    .dataframe thead th {\n",
       "        text-align: right;\n",
       "    }\n",
       "</style>\n",
       "<table border=\"1\" class=\"dataframe\">\n",
       "  <thead>\n",
       "    <tr style=\"text-align: right;\">\n",
       "      <th></th>\n",
       "      <th>country</th>\n",
       "      <th>country_group</th>\n",
       "      <th>name_en</th>\n",
       "    </tr>\n",
       "  </thead>\n",
       "  <tbody>\n",
       "    <tr>\n",
       "      <th>0</th>\n",
       "      <td>at</td>\n",
       "      <td>eu</td>\n",
       "      <td>Austria</td>\n",
       "    </tr>\n",
       "    <tr>\n",
       "      <th>1</th>\n",
       "      <td>be</td>\n",
       "      <td>eu</td>\n",
       "      <td>Belgium</td>\n",
       "    </tr>\n",
       "    <tr>\n",
       "      <th>2</th>\n",
       "      <td>bg</td>\n",
       "      <td>eu</td>\n",
       "      <td>Bulgaria</td>\n",
       "    </tr>\n",
       "    <tr>\n",
       "      <th>3</th>\n",
       "      <td>hr</td>\n",
       "      <td>non-eu</td>\n",
       "      <td>Croatia</td>\n",
       "    </tr>\n",
       "    <tr>\n",
       "      <th>4</th>\n",
       "      <td>cy</td>\n",
       "      <td>eu</td>\n",
       "      <td>Cyprus</td>\n",
       "    </tr>\n",
       "  </tbody>\n",
       "</table>\n",
       "</div>"
      ],
      "text/plain": [
       "  country country_group   name_en\n",
       "0      at            eu   Austria\n",
       "1      be            eu   Belgium\n",
       "2      bg            eu  Bulgaria\n",
       "3      hr        non-eu   Croatia\n",
       "4      cy            eu    Cyprus"
      ]
     },
     "execution_count": 13,
     "metadata": {},
     "output_type": "execute_result"
    }
   ],
   "source": [
    "country_lookup = countries[['country', 'country_group','name_en']]\n",
    "country_lookup.head(5)"
   ]
  },
  {
   "cell_type": "code",
   "execution_count": 14,
   "id": "51029e58",
   "metadata": {},
   "outputs": [
    {
     "data": {
      "text/html": [
       "<div>\n",
       "<style scoped>\n",
       "    .dataframe tbody tr th:only-of-type {\n",
       "        vertical-align: middle;\n",
       "    }\n",
       "\n",
       "    .dataframe tbody tr th {\n",
       "        vertical-align: top;\n",
       "    }\n",
       "\n",
       "    .dataframe thead th {\n",
       "        text-align: right;\n",
       "    }\n",
       "</style>\n",
       "<table border=\"1\" class=\"dataframe\">\n",
       "  <thead>\n",
       "    <tr style=\"text-align: right;\">\n",
       "      <th></th>\n",
       "      <th>country</th>\n",
       "      <th>seasonality</th>\n",
       "      <th>year_month</th>\n",
       "      <th>unemployment</th>\n",
       "      <th>unemployment_rate</th>\n",
       "      <th>year</th>\n",
       "      <th>month</th>\n",
       "      <th>country_group</th>\n",
       "      <th>name_en</th>\n",
       "    </tr>\n",
       "  </thead>\n",
       "  <tbody>\n",
       "    <tr>\n",
       "      <th>0</th>\n",
       "      <td>at</td>\n",
       "      <td>nsa</td>\n",
       "      <td>1993.01</td>\n",
       "      <td>171000</td>\n",
       "      <td>4.5</td>\n",
       "      <td>1993</td>\n",
       "      <td>1</td>\n",
       "      <td>eu</td>\n",
       "      <td>Austria</td>\n",
       "    </tr>\n",
       "    <tr>\n",
       "      <th>1</th>\n",
       "      <td>at</td>\n",
       "      <td>nsa</td>\n",
       "      <td>1993.02</td>\n",
       "      <td>175000</td>\n",
       "      <td>4.6</td>\n",
       "      <td>1993</td>\n",
       "      <td>2</td>\n",
       "      <td>eu</td>\n",
       "      <td>Austria</td>\n",
       "    </tr>\n",
       "    <tr>\n",
       "      <th>2</th>\n",
       "      <td>at</td>\n",
       "      <td>nsa</td>\n",
       "      <td>1993.03</td>\n",
       "      <td>166000</td>\n",
       "      <td>4.4</td>\n",
       "      <td>1993</td>\n",
       "      <td>3</td>\n",
       "      <td>eu</td>\n",
       "      <td>Austria</td>\n",
       "    </tr>\n",
       "    <tr>\n",
       "      <th>3</th>\n",
       "      <td>at</td>\n",
       "      <td>nsa</td>\n",
       "      <td>1993.04</td>\n",
       "      <td>157000</td>\n",
       "      <td>4.1</td>\n",
       "      <td>1993</td>\n",
       "      <td>4</td>\n",
       "      <td>eu</td>\n",
       "      <td>Austria</td>\n",
       "    </tr>\n",
       "    <tr>\n",
       "      <th>4</th>\n",
       "      <td>at</td>\n",
       "      <td>nsa</td>\n",
       "      <td>1993.05</td>\n",
       "      <td>147000</td>\n",
       "      <td>3.9</td>\n",
       "      <td>1993</td>\n",
       "      <td>5</td>\n",
       "      <td>eu</td>\n",
       "      <td>Austria</td>\n",
       "    </tr>\n",
       "  </tbody>\n",
       "</table>\n",
       "</div>"
      ],
      "text/plain": [
       "  country seasonality  year_month  unemployment  unemployment_rate  year  \\\n",
       "0      at         nsa     1993.01        171000                4.5  1993   \n",
       "1      at         nsa     1993.02        175000                4.6  1993   \n",
       "2      at         nsa     1993.03        166000                4.4  1993   \n",
       "3      at         nsa     1993.04        157000                4.1  1993   \n",
       "4      at         nsa     1993.05        147000                3.9  1993   \n",
       "\n",
       "   month country_group  name_en  \n",
       "0      1            eu  Austria  \n",
       "1      2            eu  Austria  \n",
       "2      3            eu  Austria  \n",
       "3      4            eu  Austria  \n",
       "4      5            eu  Austria  "
      ]
     },
     "execution_count": 14,
     "metadata": {},
     "output_type": "execute_result"
    }
   ],
   "source": [
    "df_merge = pd.merge(unemployment, country_lookup, on='country')\n",
    "df_merge.head()"
   ]
  },
  {
   "cell_type": "markdown",
   "id": "7991f3ee",
   "metadata": {},
   "source": [
    "Reordering Columns and dropping the column `Country` (which is an abbreviation)"
   ]
  },
  {
   "cell_type": "code",
   "execution_count": 15,
   "id": "21c37222",
   "metadata": {},
   "outputs": [
    {
     "data": {
      "text/html": [
       "<div>\n",
       "<style scoped>\n",
       "    .dataframe tbody tr th:only-of-type {\n",
       "        vertical-align: middle;\n",
       "    }\n",
       "\n",
       "    .dataframe tbody tr th {\n",
       "        vertical-align: top;\n",
       "    }\n",
       "\n",
       "    .dataframe thead th {\n",
       "        text-align: right;\n",
       "    }\n",
       "</style>\n",
       "<table border=\"1\" class=\"dataframe\">\n",
       "  <thead>\n",
       "    <tr style=\"text-align: right;\">\n",
       "      <th></th>\n",
       "      <th>name_en</th>\n",
       "      <th>country_group</th>\n",
       "      <th>seasonality</th>\n",
       "      <th>year_month</th>\n",
       "      <th>year</th>\n",
       "      <th>month</th>\n",
       "      <th>unemployment</th>\n",
       "      <th>unemployment_rate</th>\n",
       "    </tr>\n",
       "  </thead>\n",
       "  <tbody>\n",
       "    <tr>\n",
       "      <th>0</th>\n",
       "      <td>Austria</td>\n",
       "      <td>eu</td>\n",
       "      <td>nsa</td>\n",
       "      <td>1993.01</td>\n",
       "      <td>1993</td>\n",
       "      <td>1</td>\n",
       "      <td>171000</td>\n",
       "      <td>4.5</td>\n",
       "    </tr>\n",
       "    <tr>\n",
       "      <th>1</th>\n",
       "      <td>Austria</td>\n",
       "      <td>eu</td>\n",
       "      <td>nsa</td>\n",
       "      <td>1993.02</td>\n",
       "      <td>1993</td>\n",
       "      <td>2</td>\n",
       "      <td>175000</td>\n",
       "      <td>4.6</td>\n",
       "    </tr>\n",
       "    <tr>\n",
       "      <th>2</th>\n",
       "      <td>Austria</td>\n",
       "      <td>eu</td>\n",
       "      <td>nsa</td>\n",
       "      <td>1993.03</td>\n",
       "      <td>1993</td>\n",
       "      <td>3</td>\n",
       "      <td>166000</td>\n",
       "      <td>4.4</td>\n",
       "    </tr>\n",
       "    <tr>\n",
       "      <th>3</th>\n",
       "      <td>Austria</td>\n",
       "      <td>eu</td>\n",
       "      <td>nsa</td>\n",
       "      <td>1993.04</td>\n",
       "      <td>1993</td>\n",
       "      <td>4</td>\n",
       "      <td>157000</td>\n",
       "      <td>4.1</td>\n",
       "    </tr>\n",
       "    <tr>\n",
       "      <th>4</th>\n",
       "      <td>Austria</td>\n",
       "      <td>eu</td>\n",
       "      <td>nsa</td>\n",
       "      <td>1993.05</td>\n",
       "      <td>1993</td>\n",
       "      <td>5</td>\n",
       "      <td>147000</td>\n",
       "      <td>3.9</td>\n",
       "    </tr>\n",
       "  </tbody>\n",
       "</table>\n",
       "</div>"
      ],
      "text/plain": [
       "   name_en country_group seasonality  year_month  year  month  unemployment  \\\n",
       "0  Austria            eu         nsa     1993.01  1993      1        171000   \n",
       "1  Austria            eu         nsa     1993.02  1993      2        175000   \n",
       "2  Austria            eu         nsa     1993.03  1993      3        166000   \n",
       "3  Austria            eu         nsa     1993.04  1993      4        157000   \n",
       "4  Austria            eu         nsa     1993.05  1993      5        147000   \n",
       "\n",
       "   unemployment_rate  \n",
       "0                4.5  \n",
       "1                4.6  \n",
       "2                4.4  \n",
       "3                4.1  \n",
       "4                3.9  "
      ]
     },
     "execution_count": 15,
     "metadata": {},
     "output_type": "execute_result"
    }
   ],
   "source": [
    "df_merge = df_merge[['name_en', 'country_group','seasonality',\n",
    "                             'year_month', 'year', 'month',\n",
    "                             'unemployment', 'unemployment_rate']]\n",
    "df_merge.head()"
   ]
  },
  {
   "cell_type": "markdown",
   "id": "7803fedf",
   "metadata": {},
   "source": [
    "## Exploratory data analysis (EDA) - Part 1"
   ]
  },
  {
   "cell_type": "markdown",
   "id": "f7cd49a1",
   "metadata": {},
   "source": [
    "EDA is important for gaining a deeper understanding of the data, by exploring and visualising trends, patterns and anomalies in the dataset."
   ]
  },
  {
   "cell_type": "code",
   "execution_count": 16,
   "id": "935282d2",
   "metadata": {},
   "outputs": [
    {
     "data": {
      "text/html": [
       "<div>\n",
       "<style scoped>\n",
       "    .dataframe tbody tr th:only-of-type {\n",
       "        vertical-align: middle;\n",
       "    }\n",
       "\n",
       "    .dataframe tbody tr th {\n",
       "        vertical-align: top;\n",
       "    }\n",
       "\n",
       "    .dataframe thead th {\n",
       "        text-align: right;\n",
       "    }\n",
       "</style>\n",
       "<table border=\"1\" class=\"dataframe\">\n",
       "  <thead>\n",
       "    <tr style=\"text-align: right;\">\n",
       "      <th></th>\n",
       "      <th>year_month</th>\n",
       "      <th>year</th>\n",
       "      <th>month</th>\n",
       "      <th>unemployment</th>\n",
       "      <th>unemployment_rate</th>\n",
       "    </tr>\n",
       "  </thead>\n",
       "  <tbody>\n",
       "    <tr>\n",
       "      <th>count</th>\n",
       "      <td>20796.000000</td>\n",
       "      <td>20796.000000</td>\n",
       "      <td>20796.000000</td>\n",
       "      <td>2.079600e+04</td>\n",
       "      <td>19851.000000</td>\n",
       "    </tr>\n",
       "    <tr>\n",
       "      <th>mean</th>\n",
       "      <td>1999.401290</td>\n",
       "      <td>1999.336411</td>\n",
       "      <td>6.487882</td>\n",
       "      <td>7.900818e+05</td>\n",
       "      <td>8.179764</td>\n",
       "    </tr>\n",
       "    <tr>\n",
       "      <th>std</th>\n",
       "      <td>7.483751</td>\n",
       "      <td>7.483875</td>\n",
       "      <td>3.447054</td>\n",
       "      <td>1.015280e+06</td>\n",
       "      <td>3.922533</td>\n",
       "    </tr>\n",
       "    <tr>\n",
       "      <th>min</th>\n",
       "      <td>1983.010000</td>\n",
       "      <td>1983.000000</td>\n",
       "      <td>1.000000</td>\n",
       "      <td>2.000000e+03</td>\n",
       "      <td>1.100000</td>\n",
       "    </tr>\n",
       "    <tr>\n",
       "      <th>25%</th>\n",
       "      <td>1994.090000</td>\n",
       "      <td>1994.000000</td>\n",
       "      <td>3.000000</td>\n",
       "      <td>1.400000e+05</td>\n",
       "      <td>5.200000</td>\n",
       "    </tr>\n",
       "    <tr>\n",
       "      <th>50%</th>\n",
       "      <td>2001.010000</td>\n",
       "      <td>2001.000000</td>\n",
       "      <td>6.000000</td>\n",
       "      <td>3.100000e+05</td>\n",
       "      <td>7.600000</td>\n",
       "    </tr>\n",
       "    <tr>\n",
       "      <th>75%</th>\n",
       "      <td>2006.010000</td>\n",
       "      <td>2006.000000</td>\n",
       "      <td>9.000000</td>\n",
       "      <td>1.262250e+06</td>\n",
       "      <td>10.000000</td>\n",
       "    </tr>\n",
       "    <tr>\n",
       "      <th>max</th>\n",
       "      <td>2010.120000</td>\n",
       "      <td>2010.000000</td>\n",
       "      <td>12.000000</td>\n",
       "      <td>4.773000e+06</td>\n",
       "      <td>20.900000</td>\n",
       "    </tr>\n",
       "  </tbody>\n",
       "</table>\n",
       "</div>"
      ],
      "text/plain": [
       "         year_month          year         month  unemployment  \\\n",
       "count  20796.000000  20796.000000  20796.000000  2.079600e+04   \n",
       "mean    1999.401290   1999.336411      6.487882  7.900818e+05   \n",
       "std        7.483751      7.483875      3.447054  1.015280e+06   \n",
       "min     1983.010000   1983.000000      1.000000  2.000000e+03   \n",
       "25%     1994.090000   1994.000000      3.000000  1.400000e+05   \n",
       "50%     2001.010000   2001.000000      6.000000  3.100000e+05   \n",
       "75%     2006.010000   2006.000000      9.000000  1.262250e+06   \n",
       "max     2010.120000   2010.000000     12.000000  4.773000e+06   \n",
       "\n",
       "       unemployment_rate  \n",
       "count       19851.000000  \n",
       "mean            8.179764  \n",
       "std             3.922533  \n",
       "min             1.100000  \n",
       "25%             5.200000  \n",
       "50%             7.600000  \n",
       "75%            10.000000  \n",
       "max            20.900000  "
      ]
     },
     "execution_count": 16,
     "metadata": {},
     "output_type": "execute_result"
    }
   ],
   "source": [
    "df_merge.describe()"
   ]
  },
  {
   "cell_type": "code",
   "execution_count": 17,
   "id": "6ef63945",
   "metadata": {},
   "outputs": [
    {
     "name": "stdout",
     "output_type": "stream",
     "text": [
      "<class 'pandas.core.frame.DataFrame'>\n",
      "Int64Index: 20796 entries, 0 to 20795\n",
      "Data columns (total 8 columns):\n",
      " #   Column             Non-Null Count  Dtype  \n",
      "---  ------             --------------  -----  \n",
      " 0   name_en            20796 non-null  object \n",
      " 1   country_group      20796 non-null  object \n",
      " 2   seasonality        20796 non-null  object \n",
      " 3   year_month         20796 non-null  float64\n",
      " 4   year               20796 non-null  int32  \n",
      " 5   month              20796 non-null  int32  \n",
      " 6   unemployment       20796 non-null  int64  \n",
      " 7   unemployment_rate  19851 non-null  float64\n",
      "dtypes: float64(2), int32(2), int64(1), object(3)\n",
      "memory usage: 1.3+ MB\n"
     ]
    }
   ],
   "source": [
    "df_merge.info()"
   ]
  },
  {
   "cell_type": "markdown",
   "id": "68fa92d3",
   "metadata": {},
   "source": [
    "`unemployment_rate` has missing values, the countries these relate to can be shown in the code below. We will have the evaluate the missing values and come to a decision on how best to deal with them later."
   ]
  },
  {
   "cell_type": "code",
   "execution_count": 18,
   "id": "96dfe745",
   "metadata": {
    "scrolled": true
   },
   "outputs": [
    {
     "data": {
      "text/plain": [
       "Croatia     216\n",
       "Bulgaria    180\n",
       "Malta       180\n",
       "Spain       117\n",
       "Slovakia    108\n",
       "Poland       72\n",
       "Hungary      36\n",
       "Slovenia     36\n",
       "Name: name_en, dtype: int64"
      ]
     },
     "execution_count": 18,
     "metadata": {},
     "output_type": "execute_result"
    }
   ],
   "source": [
    "df_merge['unemployment_rate_null'] = df_merge['unemployment_rate'].isnull()\n",
    "df_merge[df_merge['unemployment_rate'].isnull()]['name_en'].value_counts()"
   ]
  },
  {
   "cell_type": "code",
   "execution_count": 19,
   "id": "7f693236",
   "metadata": {},
   "outputs": [
    {
     "data": {
      "text/plain": [
       "sa       7020\n",
       "trend    6936\n",
       "nsa      6840\n",
       "Name: seasonality, dtype: int64"
      ]
     },
     "execution_count": 19,
     "metadata": {},
     "output_type": "execute_result"
    }
   ],
   "source": [
    "df_merge['seasonality'].value_counts()"
   ]
  },
  {
   "cell_type": "markdown",
   "id": "f034079a",
   "metadata": {},
   "source": [
    "`Seasonality` stands for:\n",
    "- `NSA` - Not seasonally adjusted\n",
    "- `SA` - Seasonally adjusted\n",
    "- `trend` - Trend cycle"
   ]
  },
  {
   "cell_type": "code",
   "execution_count": 20,
   "id": "11feb989",
   "metadata": {},
   "outputs": [
    {
     "data": {
      "text/plain": [
       "array(['Austria', 'Belgium', 'Bulgaria', 'Cyprus', 'Czech Republic',\n",
       "       'Germany (including  former GDR from 1991)', 'Denmark', 'Estonia',\n",
       "       'Spain', 'Finland', 'France', 'Greece', 'Croatia', 'Hungary',\n",
       "       'Ireland', 'Italy', 'Lithuania', 'Luxembourg', 'Latvia', 'Malta',\n",
       "       'Netherlands', 'Norway', 'Poland', 'Portugal', 'Romania', 'Sweden',\n",
       "       'Slovenia', 'Slovakia', 'Turkey', 'United Kingdom'], dtype=object)"
      ]
     },
     "execution_count": 20,
     "metadata": {},
     "output_type": "execute_result"
    }
   ],
   "source": [
    "df_merge['name_en'].unique()"
   ]
  },
  {
   "cell_type": "code",
   "execution_count": 21,
   "id": "2a1c79fd",
   "metadata": {},
   "outputs": [
    {
     "data": {
      "text/plain": [
       "France                                       1008\n",
       "Sweden                                       1008\n",
       "Portugal                                     1008\n",
       "Netherlands                                  1008\n",
       "Luxembourg                                   1008\n",
       "Denmark                                      1008\n",
       "Belgium                                      1008\n",
       "Spain                                        1008\n",
       "Ireland                                      1008\n",
       "United Kingdom                               1002\n",
       "Italy                                         924\n",
       "Finland                                       828\n",
       "Norway                                        786\n",
       "Austria                                       648\n",
       "Hungary                                       576\n",
       "Slovakia                                      576\n",
       "Slovenia                                      576\n",
       "Bulgaria                                      576\n",
       "Malta                                         576\n",
       "Poland                                        576\n",
       "Germany (including  former GDR from 1991)     504\n",
       "Czech Republic                                468\n",
       "Latvia                                        459\n",
       "Lithuania                                     459\n",
       "Greece                                        450\n",
       "Romania                                       423\n",
       "Cyprus                                        396\n",
       "Estonia                                       387\n",
       "Croatia                                       324\n",
       "Turkey                                        210\n",
       "Name: name_en, dtype: int64"
      ]
     },
     "execution_count": 21,
     "metadata": {},
     "output_type": "execute_result"
    }
   ],
   "source": [
    "df_merge['name_en'].value_counts()"
   ]
  },
  {
   "cell_type": "code",
   "execution_count": 22,
   "id": "85e886ce",
   "metadata": {},
   "outputs": [
    {
     "data": {
      "text/plain": [
       "(1983, 2010)"
      ]
     },
     "execution_count": 22,
     "metadata": {},
     "output_type": "execute_result"
    }
   ],
   "source": [
    "df_merge['year'].min(), df_merge['year'].max()"
   ]
  },
  {
   "cell_type": "code",
   "execution_count": 23,
   "id": "cea8cbbe",
   "metadata": {},
   "outputs": [
    {
     "data": {
      "text/plain": [
       "count    19851.000000\n",
       "mean         8.179764\n",
       "std          3.922533\n",
       "min          1.100000\n",
       "25%          5.200000\n",
       "50%          7.600000\n",
       "75%         10.000000\n",
       "max         20.900000\n",
       "Name: unemployment_rate, dtype: float64"
      ]
     },
     "execution_count": 23,
     "metadata": {},
     "output_type": "execute_result"
    }
   ],
   "source": [
    "df_merge['unemployment_rate'].describe()"
   ]
  },
  {
   "cell_type": "markdown",
   "id": "b1e57b6d",
   "metadata": {},
   "source": [
    "Shows the top 5 and bottom five "
   ]
  },
  {
   "cell_type": "code",
   "execution_count": 24,
   "id": "2aded9b6",
   "metadata": {},
   "outputs": [
    {
     "data": {
      "text/html": [
       "<div>\n",
       "<style scoped>\n",
       "    .dataframe tbody tr th:only-of-type {\n",
       "        vertical-align: middle;\n",
       "    }\n",
       "\n",
       "    .dataframe tbody tr th {\n",
       "        vertical-align: top;\n",
       "    }\n",
       "\n",
       "    .dataframe thead th {\n",
       "        text-align: right;\n",
       "    }\n",
       "</style>\n",
       "<table border=\"1\" class=\"dataframe\">\n",
       "  <thead>\n",
       "    <tr style=\"text-align: right;\">\n",
       "      <th></th>\n",
       "      <th>name_en</th>\n",
       "      <th>country_group</th>\n",
       "      <th>seasonality</th>\n",
       "      <th>year_month</th>\n",
       "      <th>year</th>\n",
       "      <th>month</th>\n",
       "      <th>unemployment</th>\n",
       "      <th>unemployment_rate</th>\n",
       "      <th>unemployment_rate_null</th>\n",
       "    </tr>\n",
       "  </thead>\n",
       "  <tbody>\n",
       "    <tr>\n",
       "      <th>15526</th>\n",
       "      <td>Poland</td>\n",
       "      <td>eu</td>\n",
       "      <td>nsa</td>\n",
       "      <td>2004.02</td>\n",
       "      <td>2004</td>\n",
       "      <td>2</td>\n",
       "      <td>3531000</td>\n",
       "      <td>20.9</td>\n",
       "      <td>False</td>\n",
       "    </tr>\n",
       "    <tr>\n",
       "      <th>15525</th>\n",
       "      <td>Poland</td>\n",
       "      <td>eu</td>\n",
       "      <td>nsa</td>\n",
       "      <td>2004.01</td>\n",
       "      <td>2004</td>\n",
       "      <td>1</td>\n",
       "      <td>3520000</td>\n",
       "      <td>20.7</td>\n",
       "      <td>False</td>\n",
       "    </tr>\n",
       "    <tr>\n",
       "      <th>15514</th>\n",
       "      <td>Poland</td>\n",
       "      <td>eu</td>\n",
       "      <td>nsa</td>\n",
       "      <td>2003.02</td>\n",
       "      <td>2003</td>\n",
       "      <td>2</td>\n",
       "      <td>3460000</td>\n",
       "      <td>20.7</td>\n",
       "      <td>False</td>\n",
       "    </tr>\n",
       "    <tr>\n",
       "      <th>5663</th>\n",
       "      <td>Spain</td>\n",
       "      <td>eu</td>\n",
       "      <td>sa</td>\n",
       "      <td>2010.09</td>\n",
       "      <td>2010</td>\n",
       "      <td>9</td>\n",
       "      <td>4773000</td>\n",
       "      <td>20.6</td>\n",
       "      <td>False</td>\n",
       "    </tr>\n",
       "    <tr>\n",
       "      <th>15527</th>\n",
       "      <td>Poland</td>\n",
       "      <td>eu</td>\n",
       "      <td>nsa</td>\n",
       "      <td>2004.03</td>\n",
       "      <td>2004</td>\n",
       "      <td>3</td>\n",
       "      <td>3475000</td>\n",
       "      <td>20.6</td>\n",
       "      <td>False</td>\n",
       "    </tr>\n",
       "  </tbody>\n",
       "</table>\n",
       "</div>"
      ],
      "text/plain": [
       "      name_en country_group seasonality  year_month  year  month  \\\n",
       "15526  Poland            eu         nsa     2004.02  2004      2   \n",
       "15525  Poland            eu         nsa     2004.01  2004      1   \n",
       "15514  Poland            eu         nsa     2003.02  2003      2   \n",
       "5663    Spain            eu          sa     2010.09  2010      9   \n",
       "15527  Poland            eu         nsa     2004.03  2004      3   \n",
       "\n",
       "       unemployment  unemployment_rate  unemployment_rate_null  \n",
       "15526       3531000               20.9                   False  \n",
       "15525       3520000               20.7                   False  \n",
       "15514       3460000               20.7                   False  \n",
       "5663        4773000               20.6                   False  \n",
       "15527       3475000               20.6                   False  "
      ]
     },
     "execution_count": 24,
     "metadata": {},
     "output_type": "execute_result"
    }
   ],
   "source": [
    "df_merge.sort_values('unemployment_rate',ascending=False)[:5]"
   ]
  },
  {
   "cell_type": "code",
   "execution_count": 25,
   "id": "db506136",
   "metadata": {},
   "outputs": [
    {
     "data": {
      "text/html": [
       "<div>\n",
       "<style scoped>\n",
       "    .dataframe tbody tr th:only-of-type {\n",
       "        vertical-align: middle;\n",
       "    }\n",
       "\n",
       "    .dataframe tbody tr th {\n",
       "        vertical-align: top;\n",
       "    }\n",
       "\n",
       "    .dataframe thead th {\n",
       "        text-align: right;\n",
       "    }\n",
       "</style>\n",
       "<table border=\"1\" class=\"dataframe\">\n",
       "  <thead>\n",
       "    <tr style=\"text-align: right;\">\n",
       "      <th></th>\n",
       "      <th>name_en</th>\n",
       "      <th>country_group</th>\n",
       "      <th>seasonality</th>\n",
       "      <th>year_month</th>\n",
       "      <th>year</th>\n",
       "      <th>month</th>\n",
       "      <th>unemployment</th>\n",
       "      <th>unemployment_rate</th>\n",
       "      <th>unemployment_rate_null</th>\n",
       "    </tr>\n",
       "  </thead>\n",
       "  <tbody>\n",
       "    <tr>\n",
       "      <th>17501</th>\n",
       "      <td>Sweden</td>\n",
       "      <td>eu</td>\n",
       "      <td>nsa</td>\n",
       "      <td>1989.06</td>\n",
       "      <td>1989</td>\n",
       "      <td>6</td>\n",
       "      <td>50000</td>\n",
       "      <td>1.1</td>\n",
       "      <td>False</td>\n",
       "    </tr>\n",
       "    <tr>\n",
       "      <th>17513</th>\n",
       "      <td>Sweden</td>\n",
       "      <td>eu</td>\n",
       "      <td>nsa</td>\n",
       "      <td>1990.06</td>\n",
       "      <td>1990</td>\n",
       "      <td>6</td>\n",
       "      <td>52000</td>\n",
       "      <td>1.1</td>\n",
       "      <td>False</td>\n",
       "    </tr>\n",
       "    <tr>\n",
       "      <th>17495</th>\n",
       "      <td>Sweden</td>\n",
       "      <td>eu</td>\n",
       "      <td>nsa</td>\n",
       "      <td>1988.12</td>\n",
       "      <td>1988</td>\n",
       "      <td>12</td>\n",
       "      <td>59000</td>\n",
       "      <td>1.3</td>\n",
       "      <td>False</td>\n",
       "    </tr>\n",
       "    <tr>\n",
       "      <th>17502</th>\n",
       "      <td>Sweden</td>\n",
       "      <td>eu</td>\n",
       "      <td>nsa</td>\n",
       "      <td>1989.07</td>\n",
       "      <td>1989</td>\n",
       "      <td>7</td>\n",
       "      <td>64000</td>\n",
       "      <td>1.3</td>\n",
       "      <td>False</td>\n",
       "    </tr>\n",
       "    <tr>\n",
       "      <th>17500</th>\n",
       "      <td>Sweden</td>\n",
       "      <td>eu</td>\n",
       "      <td>nsa</td>\n",
       "      <td>1989.05</td>\n",
       "      <td>1989</td>\n",
       "      <td>5</td>\n",
       "      <td>59000</td>\n",
       "      <td>1.3</td>\n",
       "      <td>False</td>\n",
       "    </tr>\n",
       "  </tbody>\n",
       "</table>\n",
       "</div>"
      ],
      "text/plain": [
       "      name_en country_group seasonality  year_month  year  month  \\\n",
       "17501  Sweden            eu         nsa     1989.06  1989      6   \n",
       "17513  Sweden            eu         nsa     1990.06  1990      6   \n",
       "17495  Sweden            eu         nsa     1988.12  1988     12   \n",
       "17502  Sweden            eu         nsa     1989.07  1989      7   \n",
       "17500  Sweden            eu         nsa     1989.05  1989      5   \n",
       "\n",
       "       unemployment  unemployment_rate  unemployment_rate_null  \n",
       "17501         50000                1.1                   False  \n",
       "17513         52000                1.1                   False  \n",
       "17495         59000                1.3                   False  \n",
       "17502         64000                1.3                   False  \n",
       "17500         59000                1.3                   False  "
      ]
     },
     "execution_count": 25,
     "metadata": {},
     "output_type": "execute_result"
    }
   ],
   "source": [
    "df_merge.sort_values('unemployment_rate',ascending=True)[:5]"
   ]
  },
  {
   "cell_type": "code",
   "execution_count": 26,
   "id": "cdf7f254",
   "metadata": {},
   "outputs": [
    {
     "data": {
      "text/plain": [
       "country_group  year\n",
       "eu             1983    8.243056\n",
       "               1984    8.532222\n",
       "               1985    8.475278\n",
       "               1986    8.861757\n",
       "               1987    8.746465\n",
       "               1988    7.845370\n",
       "               1989    7.145370\n",
       "               1990    6.731713\n",
       "               1991    7.371296\n",
       "               1992    8.416009\n",
       "               1993    9.592480\n",
       "               1994    9.832724\n",
       "               1995    9.372561\n",
       "               1996    9.156915\n",
       "               1997    8.719167\n",
       "               1998    8.779767\n",
       "               1999    8.609191\n",
       "               2000    8.669479\n",
       "               2001    8.539167\n",
       "               2002    8.539062\n",
       "               2003    8.437500\n",
       "               2004    8.530380\n",
       "               2005    8.057173\n",
       "               2006    7.218882\n",
       "               2007    6.333542\n",
       "               2008    6.241042\n",
       "               2009    8.857292\n",
       "               2010    9.850715\n",
       "non-eu         1989    5.219444\n",
       "               1990    5.616667\n",
       "               1991    5.838889\n",
       "               1992    6.352778\n",
       "               1993    6.383333\n",
       "               1994    5.811111\n",
       "               1995    5.286111\n",
       "               1996    4.744444\n",
       "               1997    3.908333\n",
       "               1998    3.086111\n",
       "               1999    3.052778\n",
       "               2000    3.241667\n",
       "               2001    3.419444\n",
       "               2002    6.468750\n",
       "               2003    6.710417\n",
       "               2004    6.629167\n",
       "               2005    7.684524\n",
       "               2006    6.822619\n",
       "               2007    6.257143\n",
       "               2008    6.441667\n",
       "               2009    8.015476\n",
       "               2010    7.958333\n",
       "Name: unemployment_rate, dtype: float64"
      ]
     },
     "execution_count": 26,
     "metadata": {},
     "output_type": "execute_result"
    }
   ],
   "source": [
    "df_merge.groupby(['country_group','year'])['unemployment_rate'].mean()"
   ]
  },
  {
   "cell_type": "markdown",
   "id": "3e2671f5",
   "metadata": {},
   "source": [
    "Confirms the code we ran previously but in a friendlier format"
   ]
  },
  {
   "cell_type": "code",
   "execution_count": 27,
   "id": "8b968303",
   "metadata": {},
   "outputs": [
    {
     "data": {
      "text/html": [
       "<div>\n",
       "<style scoped>\n",
       "    .dataframe tbody tr th:only-of-type {\n",
       "        vertical-align: middle;\n",
       "    }\n",
       "\n",
       "    .dataframe tbody tr th {\n",
       "        vertical-align: top;\n",
       "    }\n",
       "\n",
       "    .dataframe thead th {\n",
       "        text-align: right;\n",
       "    }\n",
       "</style>\n",
       "<table border=\"1\" class=\"dataframe\">\n",
       "  <thead>\n",
       "    <tr style=\"text-align: right;\">\n",
       "      <th></th>\n",
       "      <th>name_en</th>\n",
       "      <th>year</th>\n",
       "      <th>unemployment_rate</th>\n",
       "    </tr>\n",
       "  </thead>\n",
       "  <tbody>\n",
       "    <tr>\n",
       "      <th>524</th>\n",
       "      <td>Spain</td>\n",
       "      <td>2010</td>\n",
       "      <td>20.072222</td>\n",
       "    </tr>\n",
       "    <tr>\n",
       "      <th>416</th>\n",
       "      <td>Poland</td>\n",
       "      <td>2002</td>\n",
       "      <td>19.991667</td>\n",
       "    </tr>\n",
       "    <tr>\n",
       "      <th>417</th>\n",
       "      <td>Poland</td>\n",
       "      <td>2003</td>\n",
       "      <td>19.663889</td>\n",
       "    </tr>\n",
       "    <tr>\n",
       "      <th>508</th>\n",
       "      <td>Spain</td>\n",
       "      <td>1994</td>\n",
       "      <td>19.522222</td>\n",
       "    </tr>\n",
       "    <tr>\n",
       "      <th>52</th>\n",
       "      <td>Bulgaria</td>\n",
       "      <td>2001</td>\n",
       "      <td>19.402778</td>\n",
       "    </tr>\n",
       "  </tbody>\n",
       "</table>\n",
       "</div>"
      ],
      "text/plain": [
       "      name_en  year  unemployment_rate\n",
       "524     Spain  2010          20.072222\n",
       "416    Poland  2002          19.991667\n",
       "417    Poland  2003          19.663889\n",
       "508     Spain  1994          19.522222\n",
       "52   Bulgaria  2001          19.402778"
      ]
     },
     "execution_count": 27,
     "metadata": {},
     "output_type": "execute_result"
    }
   ],
   "source": [
    "unemployment_rate = df_merge.groupby(['name_en','year'], as_index=False)['unemployment_rate'].mean()\n",
    "\n",
    "unemployment_rate.sort_values('unemployment_rate',ascending=False)[:5]"
   ]
  },
  {
   "cell_type": "code",
   "execution_count": 28,
   "id": "4f317fac",
   "metadata": {},
   "outputs": [
    {
     "data": {
      "text/html": [
       "<div>\n",
       "<style scoped>\n",
       "    .dataframe tbody tr th:only-of-type {\n",
       "        vertical-align: middle;\n",
       "    }\n",
       "\n",
       "    .dataframe tbody tr th {\n",
       "        vertical-align: top;\n",
       "    }\n",
       "\n",
       "    .dataframe thead th {\n",
       "        text-align: right;\n",
       "    }\n",
       "</style>\n",
       "<table border=\"1\" class=\"dataframe\">\n",
       "  <thead>\n",
       "    <tr style=\"text-align: right;\">\n",
       "      <th></th>\n",
       "      <th>name_en</th>\n",
       "      <th>year</th>\n",
       "      <th>unemployment_rate</th>\n",
       "    </tr>\n",
       "  </thead>\n",
       "  <tbody>\n",
       "    <tr>\n",
       "      <th>531</th>\n",
       "      <td>Sweden</td>\n",
       "      <td>1989</td>\n",
       "      <td>1.544444</td>\n",
       "    </tr>\n",
       "    <tr>\n",
       "      <th>322</th>\n",
       "      <td>Luxembourg</td>\n",
       "      <td>1990</td>\n",
       "      <td>1.650000</td>\n",
       "    </tr>\n",
       "    <tr>\n",
       "      <th>323</th>\n",
       "      <td>Luxembourg</td>\n",
       "      <td>1991</td>\n",
       "      <td>1.655556</td>\n",
       "    </tr>\n",
       "    <tr>\n",
       "      <th>532</th>\n",
       "      <td>Sweden</td>\n",
       "      <td>1990</td>\n",
       "      <td>1.738889</td>\n",
       "    </tr>\n",
       "    <tr>\n",
       "      <th>321</th>\n",
       "      <td>Luxembourg</td>\n",
       "      <td>1989</td>\n",
       "      <td>1.783333</td>\n",
       "    </tr>\n",
       "  </tbody>\n",
       "</table>\n",
       "</div>"
      ],
      "text/plain": [
       "        name_en  year  unemployment_rate\n",
       "531      Sweden  1989           1.544444\n",
       "322  Luxembourg  1990           1.650000\n",
       "323  Luxembourg  1991           1.655556\n",
       "532      Sweden  1990           1.738889\n",
       "321  Luxembourg  1989           1.783333"
      ]
     },
     "execution_count": 28,
     "metadata": {},
     "output_type": "execute_result"
    }
   ],
   "source": [
    "unemployment_rate.sort_values('unemployment_rate',ascending=True)[:5]"
   ]
  },
  {
   "cell_type": "code",
   "execution_count": 29,
   "id": "e93e3624",
   "metadata": {},
   "outputs": [
    {
     "data": {
      "text/html": [
       "<div>\n",
       "<style scoped>\n",
       "    .dataframe tbody tr th:only-of-type {\n",
       "        vertical-align: middle;\n",
       "    }\n",
       "\n",
       "    .dataframe tbody tr th {\n",
       "        vertical-align: top;\n",
       "    }\n",
       "\n",
       "    .dataframe thead th {\n",
       "        text-align: right;\n",
       "    }\n",
       "</style>\n",
       "<table border=\"1\" class=\"dataframe\">\n",
       "  <thead>\n",
       "    <tr style=\"text-align: right;\">\n",
       "      <th></th>\n",
       "      <th>name_en</th>\n",
       "      <th>year</th>\n",
       "      <th>unemployment_rate</th>\n",
       "    </tr>\n",
       "  </thead>\n",
       "  <tbody>\n",
       "    <tr>\n",
       "      <th>524</th>\n",
       "      <td>Spain</td>\n",
       "      <td>2010</td>\n",
       "      <td>20.072222</td>\n",
       "    </tr>\n",
       "    <tr>\n",
       "      <th>416</th>\n",
       "      <td>Poland</td>\n",
       "      <td>2002</td>\n",
       "      <td>19.991667</td>\n",
       "    </tr>\n",
       "    <tr>\n",
       "      <th>417</th>\n",
       "      <td>Poland</td>\n",
       "      <td>2003</td>\n",
       "      <td>19.663889</td>\n",
       "    </tr>\n",
       "    <tr>\n",
       "      <th>508</th>\n",
       "      <td>Spain</td>\n",
       "      <td>1994</td>\n",
       "      <td>19.522222</td>\n",
       "    </tr>\n",
       "    <tr>\n",
       "      <th>52</th>\n",
       "      <td>Bulgaria</td>\n",
       "      <td>2001</td>\n",
       "      <td>19.402778</td>\n",
       "    </tr>\n",
       "  </tbody>\n",
       "</table>\n",
       "</div>"
      ],
      "text/plain": [
       "      name_en  year  unemployment_rate\n",
       "524     Spain  2010          20.072222\n",
       "416    Poland  2002          19.991667\n",
       "417    Poland  2003          19.663889\n",
       "508     Spain  1994          19.522222\n",
       "52   Bulgaria  2001          19.402778"
      ]
     },
     "execution_count": 29,
     "metadata": {},
     "output_type": "execute_result"
    }
   ],
   "source": [
    "unemployment_rate.sort_values('unemployment_rate',ascending=False)[:5]"
   ]
  },
  {
   "cell_type": "markdown",
   "id": "aa21ed07",
   "metadata": {},
   "source": [
    "The codes we have ran above, gives insight into:\n",
    "- Understanding the attributes in categorical columns\n",
    "- How EU and Non-EU countries stack up against each other for Unemployment rate\n",
    "- Identifying the Missing Values\n",
    "- Using the describe command, to get descriptive statistics on the numerical values"
   ]
  },
  {
   "cell_type": "markdown",
   "id": "79b1a87d",
   "metadata": {},
   "source": [
    "### Dealing with Missing Values"
   ]
  },
  {
   "cell_type": "markdown",
   "id": "a6947ae1",
   "metadata": {},
   "source": [
    "What the normal processing are - why are we dropping them"
   ]
  },
  {
   "cell_type": "code",
   "execution_count": 30,
   "id": "ad4f27a3",
   "metadata": {},
   "outputs": [],
   "source": [
    "df_merge.dropna(subset=['unemployment_rate'], inplace=True)"
   ]
  },
  {
   "cell_type": "code",
   "execution_count": 31,
   "id": "d777f9b1",
   "metadata": {},
   "outputs": [
    {
     "name": "stdout",
     "output_type": "stream",
     "text": [
      "<class 'pandas.core.frame.DataFrame'>\n",
      "Int64Index: 19851 entries, 0 to 20795\n",
      "Data columns (total 9 columns):\n",
      " #   Column                  Non-Null Count  Dtype  \n",
      "---  ------                  --------------  -----  \n",
      " 0   name_en                 19851 non-null  object \n",
      " 1   country_group           19851 non-null  object \n",
      " 2   seasonality             19851 non-null  object \n",
      " 3   year_month              19851 non-null  float64\n",
      " 4   year                    19851 non-null  int32  \n",
      " 5   month                   19851 non-null  int32  \n",
      " 6   unemployment            19851 non-null  int64  \n",
      " 7   unemployment_rate       19851 non-null  float64\n",
      " 8   unemployment_rate_null  19851 non-null  bool   \n",
      "dtypes: bool(1), float64(2), int32(2), int64(1), object(3)\n",
      "memory usage: 1.2+ MB\n"
     ]
    }
   ],
   "source": [
    "df_merge.info()"
   ]
  },
  {
   "cell_type": "markdown",
   "id": "9694aa4d",
   "metadata": {},
   "source": [
    "## Exploratory data analysis (EDA) - Part 2"
   ]
  },
  {
   "cell_type": "markdown",
   "id": "40bac690",
   "metadata": {},
   "source": [
    "The Pandas library has in-built functionality for data visualisation, including histograms and graphs.\n",
    "\n",
    "Histograms (`hist()`) can show the spread of data in the dataset, which is important as we evaluate `unemployment_rates`. We can use this to show the distrubution for different countries as well as Country groups."
   ]
  },
  {
   "cell_type": "code",
   "execution_count": 32,
   "id": "0b3b5bba",
   "metadata": {},
   "outputs": [
    {
     "data": {
      "text/plain": [
       "<AxesSubplot:>"
      ]
     },
     "execution_count": 32,
     "metadata": {},
     "output_type": "execute_result"
    },
    {
     "data": {
      "image/png": "[encoded data removed]",
      "text/plain": [
       "<Figure size 640x480 with 1 Axes>"
      ]
     },
     "metadata": {},
     "output_type": "display_data"
    }
   ],
   "source": [
    "df_merge['unemployment_rate'].hist()"
   ]
  },
  {
   "cell_type": "code",
   "execution_count": 33,
   "id": "c58a498f",
   "metadata": {},
   "outputs": [
    {
     "data": {
      "text/plain": [
       "<AxesSubplot:>"
      ]
     },
     "execution_count": 33,
     "metadata": {},
     "output_type": "execute_result"
    },
    {
     "data": {
      "image/png": "[encoded data removed]",
      "text/plain": [
       "<Figure size 640x480 with 1 Axes>"
      ]
     },
     "metadata": {},
     "output_type": "display_data"
    }
   ],
   "source": [
    "df_merge[df_merge['country_group'] == 'eu']['unemployment_rate'].hist(color='Red', alpha=0.3)\n",
    "df_merge[df_merge['country_group'] == 'non-eu']['unemployment_rate'].hist(color='Blue',alpha=0.3)"
   ]
  },
  {
   "cell_type": "markdown",
   "id": "f43c8018",
   "metadata": {},
   "source": [
    "A key observation made during the EDA stage was the significant disparity in the amount of data available for the two different attributes in `country_group`, EU and non-EU countries. This is demonstrated through the histogram above which shows the unsuitability of certain visualisations to represent data."
   ]
  },
  {
   "cell_type": "markdown",
   "id": "86518598",
   "metadata": {},
   "source": [
    "Histograms can be used to show the distribution of values in the data set easily, as can be shown below."
   ]
  },
  {
   "cell_type": "code",
   "execution_count": 34,
   "id": "2f9cda26",
   "metadata": {},
   "outputs": [
    {
     "data": {
      "text/plain": [
       "array([[<AxesSubplot:title={'center':'year_month'}>,\n",
       "        <AxesSubplot:title={'center':'year'}>],\n",
       "       [<AxesSubplot:title={'center':'month'}>,\n",
       "        <AxesSubplot:title={'center':'unemployment'}>],\n",
       "       [<AxesSubplot:title={'center':'unemployment_rate'}>,\n",
       "        <AxesSubplot:>]], dtype=object)"
      ]
     },
     "execution_count": 34,
     "metadata": {},
     "output_type": "execute_result"
    },
    {
     "data": {
      "image/png": "[encoded data removed]",
      "text/plain": [
       "<Figure size 1000x1000 with 6 Axes>"
      ]
     },
     "metadata": {},
     "output_type": "display_data"
    }
   ],
   "source": [
    "df_merge.hist(figsize=(10,10))"
   ]
  },
  {
   "cell_type": "code",
   "execution_count": 35,
   "id": "a0b48ab3",
   "metadata": {},
   "outputs": [
    {
     "data": {
      "text/plain": [
       "<AxesSubplot:>"
      ]
     },
     "execution_count": 35,
     "metadata": {},
     "output_type": "execute_result"
    },
    {
     "data": {
      "image/png": "[encoded data removed]",
      "text/plain": [
       "<Figure size 640x480 with 1 Axes>"
      ]
     },
     "metadata": {},
     "output_type": "display_data"
    }
   ],
   "source": [
    "df_merge[df_merge['name_en'] == 'Spain']['unemployment_rate'].hist(color='Red', alpha=0.3)\n",
    "df_merge[df_merge['name_en'] == 'France']['unemployment_rate'].hist(color='Blue',alpha=0.3)\n",
    "df_merge[df_merge['name_en'] == 'Italy']['unemployment_rate'].hist(color='Green',alpha=0.3)"
   ]
  },
  {
   "cell_type": "markdown",
   "id": "92c77d90",
   "metadata": {},
   "source": [
    "Here we can see the better use of the Histogram visualisation, as we can see similarities between France's and Italy's unemployment rates. With both being spread around 8% to 10%, whereas Spain is spread up to 20%."
   ]
  },
  {
   "cell_type": "code",
   "execution_count": 36,
   "id": "f22a0a2a",
   "metadata": {},
   "outputs": [
    {
     "data": {
      "text/html": [
       "<div>\n",
       "<style scoped>\n",
       "    .dataframe tbody tr th:only-of-type {\n",
       "        vertical-align: middle;\n",
       "    }\n",
       "\n",
       "    .dataframe tbody tr th {\n",
       "        vertical-align: top;\n",
       "    }\n",
       "\n",
       "    .dataframe thead th {\n",
       "        text-align: right;\n",
       "    }\n",
       "</style>\n",
       "<table border=\"1\" class=\"dataframe\">\n",
       "  <thead>\n",
       "    <tr style=\"text-align: right;\">\n",
       "      <th></th>\n",
       "      <th>name_en</th>\n",
       "      <th>country_group</th>\n",
       "      <th>date</th>\n",
       "      <th>seasonality</th>\n",
       "      <th>year_month</th>\n",
       "      <th>year</th>\n",
       "      <th>month</th>\n",
       "      <th>unemployment</th>\n",
       "      <th>unemployment_rate</th>\n",
       "      <th>unemployment_rate_null</th>\n",
       "    </tr>\n",
       "  </thead>\n",
       "  <tbody>\n",
       "    <tr>\n",
       "      <th>0</th>\n",
       "      <td>Austria</td>\n",
       "      <td>eu</td>\n",
       "      <td>1993-01-01</td>\n",
       "      <td>nsa</td>\n",
       "      <td>1993.01</td>\n",
       "      <td>1993</td>\n",
       "      <td>1</td>\n",
       "      <td>171000</td>\n",
       "      <td>4.5</td>\n",
       "      <td>False</td>\n",
       "    </tr>\n",
       "    <tr>\n",
       "      <th>1</th>\n",
       "      <td>Austria</td>\n",
       "      <td>eu</td>\n",
       "      <td>1993-02-01</td>\n",
       "      <td>nsa</td>\n",
       "      <td>1993.02</td>\n",
       "      <td>1993</td>\n",
       "      <td>2</td>\n",
       "      <td>175000</td>\n",
       "      <td>4.6</td>\n",
       "      <td>False</td>\n",
       "    </tr>\n",
       "    <tr>\n",
       "      <th>2</th>\n",
       "      <td>Austria</td>\n",
       "      <td>eu</td>\n",
       "      <td>1993-03-01</td>\n",
       "      <td>nsa</td>\n",
       "      <td>1993.03</td>\n",
       "      <td>1993</td>\n",
       "      <td>3</td>\n",
       "      <td>166000</td>\n",
       "      <td>4.4</td>\n",
       "      <td>False</td>\n",
       "    </tr>\n",
       "    <tr>\n",
       "      <th>3</th>\n",
       "      <td>Austria</td>\n",
       "      <td>eu</td>\n",
       "      <td>1993-04-01</td>\n",
       "      <td>nsa</td>\n",
       "      <td>1993.04</td>\n",
       "      <td>1993</td>\n",
       "      <td>4</td>\n",
       "      <td>157000</td>\n",
       "      <td>4.1</td>\n",
       "      <td>False</td>\n",
       "    </tr>\n",
       "    <tr>\n",
       "      <th>4</th>\n",
       "      <td>Austria</td>\n",
       "      <td>eu</td>\n",
       "      <td>1993-05-01</td>\n",
       "      <td>nsa</td>\n",
       "      <td>1993.05</td>\n",
       "      <td>1993</td>\n",
       "      <td>5</td>\n",
       "      <td>147000</td>\n",
       "      <td>3.9</td>\n",
       "      <td>False</td>\n",
       "    </tr>\n",
       "  </tbody>\n",
       "</table>\n",
       "</div>"
      ],
      "text/plain": [
       "   name_en country_group       date seasonality  year_month  year  month  \\\n",
       "0  Austria            eu 1993-01-01         nsa     1993.01  1993      1   \n",
       "1  Austria            eu 1993-02-01         nsa     1993.02  1993      2   \n",
       "2  Austria            eu 1993-03-01         nsa     1993.03  1993      3   \n",
       "3  Austria            eu 1993-04-01         nsa     1993.04  1993      4   \n",
       "4  Austria            eu 1993-05-01         nsa     1993.05  1993      5   \n",
       "\n",
       "   unemployment  unemployment_rate  unemployment_rate_null  \n",
       "0        171000                4.5                   False  \n",
       "1        175000                4.6                   False  \n",
       "2        166000                4.4                   False  \n",
       "3        157000                4.1                   False  \n",
       "4        147000                3.9                   False  "
      ]
     },
     "execution_count": 36,
     "metadata": {},
     "output_type": "execute_result"
    }
   ],
   "source": [
    "df_merge.insert(loc=2, column='date',value=pd.to_datetime(unemployment['month'].astype(str) + '/' +'1/'+ unemployment['year'].astype(str), format='%m/%d/%Y'))\n",
    "df_merge.head()"
   ]
  },
  {
   "cell_type": "code",
   "execution_count": 37,
   "id": "e85346d6",
   "metadata": {},
   "outputs": [
    {
     "name": "stderr",
     "output_type": "stream",
     "text": [
      "C:\\Users\\Sam.Sutton\\AppData\\Local\\Continuum\\anaconda3\\TEMP\\ipykernel_12392\\3024944581.py:2: SettingWithCopyWarning: \n",
      "A value is trying to be set on a copy of a slice from a DataFrame\n",
      "\n",
      "See the caveats in the documentation: https://pandas.pydata.org/pandas-docs/stable/user_guide/indexing.html#returning-a-view-versus-a-copy\n",
      "  uer_all.rename(columns={'date' : 'Time Period','name_en' : 'Country','unemployment_rate' : 'Unemployment Rate'}, inplace=True)\n"
     ]
    },
    {
     "data": {
      "text/html": [
       "<div>\n",
       "<style scoped>\n",
       "    .dataframe tbody tr th:only-of-type {\n",
       "        vertical-align: middle;\n",
       "    }\n",
       "\n",
       "    .dataframe tbody tr th {\n",
       "        vertical-align: top;\n",
       "    }\n",
       "\n",
       "    .dataframe thead th {\n",
       "        text-align: right;\n",
       "    }\n",
       "</style>\n",
       "<table border=\"1\" class=\"dataframe\">\n",
       "  <thead>\n",
       "    <tr style=\"text-align: right;\">\n",
       "      <th></th>\n",
       "      <th>CountryName</th>\n",
       "      <th>UnemploymentRate</th>\n",
       "    </tr>\n",
       "    <tr>\n",
       "      <th>TimePeriod</th>\n",
       "      <th></th>\n",
       "      <th></th>\n",
       "    </tr>\n",
       "  </thead>\n",
       "  <tbody>\n",
       "    <tr>\n",
       "      <th>1993-01-01</th>\n",
       "      <td>Austria</td>\n",
       "      <td>4.5</td>\n",
       "    </tr>\n",
       "    <tr>\n",
       "      <th>1993-02-01</th>\n",
       "      <td>Austria</td>\n",
       "      <td>4.6</td>\n",
       "    </tr>\n",
       "    <tr>\n",
       "      <th>1993-03-01</th>\n",
       "      <td>Austria</td>\n",
       "      <td>4.4</td>\n",
       "    </tr>\n",
       "    <tr>\n",
       "      <th>1993-04-01</th>\n",
       "      <td>Austria</td>\n",
       "      <td>4.1</td>\n",
       "    </tr>\n",
       "    <tr>\n",
       "      <th>1993-05-01</th>\n",
       "      <td>Austria</td>\n",
       "      <td>3.9</td>\n",
       "    </tr>\n",
       "  </tbody>\n",
       "</table>\n",
       "</div>"
      ],
      "text/plain": [
       "           CountryName  UnemploymentRate\n",
       "TimePeriod                              \n",
       "1993-01-01     Austria               4.5\n",
       "1993-02-01     Austria               4.6\n",
       "1993-03-01     Austria               4.4\n",
       "1993-04-01     Austria               4.1\n",
       "1993-05-01     Austria               3.9"
      ]
     },
     "execution_count": 37,
     "metadata": {},
     "output_type": "execute_result"
    }
   ],
   "source": [
    "uer_all = df_merge[['date', 'name_en','unemployment_rate']]\n",
    "uer_all.rename(columns={'date' : 'Time Period','name_en' : 'Country','unemployment_rate' : 'Unemployment Rate'}, inplace=True)\n",
    "uer_all.columns = ['TimePeriod', 'CountryName', 'UnemploymentRate'] # hack to save time\n",
    "uer_all.set_index('TimePeriod',inplace=True)\n",
    "uer_all.head()"
   ]
  },
  {
   "cell_type": "markdown",
   "id": "228638a0",
   "metadata": {},
   "source": [
    "The below graph shows the `unemployment_rate` for all countries across the different years in the dataset. It displays the upper and lower bounds (minimum and maximum) for the Unemployment Rate"
   ]
  },
  {
   "cell_type": "code",
   "execution_count": 38,
   "id": "9f109369",
   "metadata": {},
   "outputs": [
    {
     "data": {
      "text/plain": [
       "<AxesSubplot:title={'center':'Unemployment Rate\\n'}, xlabel='TimePeriod'>"
      ]
     },
     "execution_count": 38,
     "metadata": {},
     "output_type": "execute_result"
    },
    {
     "data": {
      "image/png": "[encoded data removed]",
      "text/plain": [
       "<Figure size 640x480 with 1 Axes>"
      ]
     },
     "metadata": {},
     "output_type": "display_data"
    }
   ],
   "source": [
    "uer_all.plot(title='Unemployment Rate\\n', color=['red'])"
   ]
  },
  {
   "cell_type": "markdown",
   "id": "83809e16",
   "metadata": {},
   "source": [
    "Previously we viewed the distribution of Spain, France and Italy as Histograms for the distribution of the Unemployment Rate. To build on this comaprision between the 3 countries, we can plot a line graph to view Spain, France and Italy for all seasonally adjusted data (shown by `seasonality` being set to `sa`) and use this across Date to show how the `unemployment_rate` affected all countries from 1984 to 2010."
   ]
  },
  {
   "cell_type": "markdown",
   "id": "234b5181",
   "metadata": {},
   "source": [
    "The code below creates a copy of the Data Frame where Spain, France and Italy where present and the seasonality was set. We then aid readability by renaming the column names and the `inplace` variable means that it will change the new Data Frame we created directly.\n",
    "\n",
    "The same colour schemes were used and once again we can see the similat curves for both France and Italy but we can see that even though Spain starts to follow the same trend from roughly 2000 to 2005 that the differences a noticable. With Spain hitting two clear peaks for `Unemployment Rate` in 1994 and 2010."
   ]
  },
  {
   "cell_type": "code",
   "execution_count": 39,
   "id": "716bd543",
   "metadata": {},
   "outputs": [],
   "source": [
    "sfi_graph = df_merge[(df_merge['name_en'].isin(['Spain', 'France','Italy'])) & (df_merge['seasonality'] == 'sa')].copy()\n",
    "sfi_graph = sfi_graph[['date', 'name_en','unemployment_rate']]\n",
    "sfi_graph.rename(columns={'date' : 'TimePeriod','name_en' : 'Country','unemployment_rate' : 'UnemploymentRate'}, inplace=True)"
   ]
  },
  {
   "cell_type": "code",
   "execution_count": 40,
   "id": "d2649e69",
   "metadata": {
    "scrolled": true
   },
   "outputs": [
    {
     "data": {
      "text/plain": [
       "<AxesSubplot:title={'center':'Unemployment Rate\\n'}, xlabel='TimePeriod'>"
      ]
     },
     "execution_count": 40,
     "metadata": {},
     "output_type": "execute_result"
    },
    {
     "data": {
      "image/png": "[encoded data removed]",
      "text/plain": [
       "<Figure size 640x480 with 1 Axes>"
      ]
     },
     "metadata": {},
     "output_type": "display_data"
    }
   ],
   "source": [
    "sfi_graph = sfi_graph.pivot(index='TimePeriod', columns='Country', values='UnemploymentRate')\n",
    "sfi_graph.plot(title='Unemployment Rate\\n', color=['red','blue','green'])"
   ]
  },
  {
   "cell_type": "markdown",
   "id": "5fca538c",
   "metadata": {},
   "source": [
    "The final comparison I wanted to run was against EU countries versus non-EU countries, the previous histogram was not suitable for the dataset due to the amount of data being made avaliable for EU countries being significantly larger.\n",
    "\n",
    "The line graph analysis would show the average `unemployment_rate` for EU vs non-EU countries for each year, offering up insight into the performance of the two differing categories."
   ]
  },
  {
   "cell_type": "code",
   "execution_count": 43,
   "id": "0ca66ba5",
   "metadata": {},
   "outputs": [
    {
     "data": {
      "text/html": [
       "<div>\n",
       "<style scoped>\n",
       "    .dataframe tbody tr th:only-of-type {\n",
       "        vertical-align: middle;\n",
       "    }\n",
       "\n",
       "    .dataframe tbody tr th {\n",
       "        vertical-align: top;\n",
       "    }\n",
       "\n",
       "    .dataframe thead th {\n",
       "        text-align: right;\n",
       "    }\n",
       "</style>\n",
       "<table border=\"1\" class=\"dataframe\">\n",
       "  <thead>\n",
       "    <tr style=\"text-align: right;\">\n",
       "      <th></th>\n",
       "      <th>year</th>\n",
       "      <th>country_group</th>\n",
       "      <th>unemployment_rate</th>\n",
       "    </tr>\n",
       "  </thead>\n",
       "  <tbody>\n",
       "    <tr>\n",
       "      <th>0</th>\n",
       "      <td>1983</td>\n",
       "      <td>eu</td>\n",
       "      <td>8.243056</td>\n",
       "    </tr>\n",
       "    <tr>\n",
       "      <th>1</th>\n",
       "      <td>1984</td>\n",
       "      <td>eu</td>\n",
       "      <td>8.532222</td>\n",
       "    </tr>\n",
       "    <tr>\n",
       "      <th>2</th>\n",
       "      <td>1985</td>\n",
       "      <td>eu</td>\n",
       "      <td>8.475278</td>\n",
       "    </tr>\n",
       "    <tr>\n",
       "      <th>3</th>\n",
       "      <td>1986</td>\n",
       "      <td>eu</td>\n",
       "      <td>8.861757</td>\n",
       "    </tr>\n",
       "    <tr>\n",
       "      <th>4</th>\n",
       "      <td>1987</td>\n",
       "      <td>eu</td>\n",
       "      <td>8.746465</td>\n",
       "    </tr>\n",
       "    <tr>\n",
       "      <th>5</th>\n",
       "      <td>1988</td>\n",
       "      <td>eu</td>\n",
       "      <td>7.845370</td>\n",
       "    </tr>\n",
       "    <tr>\n",
       "      <th>6</th>\n",
       "      <td>1989</td>\n",
       "      <td>eu</td>\n",
       "      <td>7.145370</td>\n",
       "    </tr>\n",
       "    <tr>\n",
       "      <th>7</th>\n",
       "      <td>1989</td>\n",
       "      <td>non-eu</td>\n",
       "      <td>5.219444</td>\n",
       "    </tr>\n",
       "    <tr>\n",
       "      <th>8</th>\n",
       "      <td>1990</td>\n",
       "      <td>eu</td>\n",
       "      <td>6.731713</td>\n",
       "    </tr>\n",
       "    <tr>\n",
       "      <th>9</th>\n",
       "      <td>1990</td>\n",
       "      <td>non-eu</td>\n",
       "      <td>5.616667</td>\n",
       "    </tr>\n",
       "    <tr>\n",
       "      <th>10</th>\n",
       "      <td>1991</td>\n",
       "      <td>eu</td>\n",
       "      <td>7.371296</td>\n",
       "    </tr>\n",
       "    <tr>\n",
       "      <th>11</th>\n",
       "      <td>1991</td>\n",
       "      <td>non-eu</td>\n",
       "      <td>5.838889</td>\n",
       "    </tr>\n",
       "    <tr>\n",
       "      <th>12</th>\n",
       "      <td>1992</td>\n",
       "      <td>eu</td>\n",
       "      <td>8.416009</td>\n",
       "    </tr>\n",
       "    <tr>\n",
       "      <th>13</th>\n",
       "      <td>1992</td>\n",
       "      <td>non-eu</td>\n",
       "      <td>6.352778</td>\n",
       "    </tr>\n",
       "    <tr>\n",
       "      <th>14</th>\n",
       "      <td>1993</td>\n",
       "      <td>eu</td>\n",
       "      <td>9.592480</td>\n",
       "    </tr>\n",
       "    <tr>\n",
       "      <th>15</th>\n",
       "      <td>1993</td>\n",
       "      <td>non-eu</td>\n",
       "      <td>6.383333</td>\n",
       "    </tr>\n",
       "    <tr>\n",
       "      <th>16</th>\n",
       "      <td>1994</td>\n",
       "      <td>eu</td>\n",
       "      <td>9.832724</td>\n",
       "    </tr>\n",
       "    <tr>\n",
       "      <th>17</th>\n",
       "      <td>1994</td>\n",
       "      <td>non-eu</td>\n",
       "      <td>5.811111</td>\n",
       "    </tr>\n",
       "    <tr>\n",
       "      <th>18</th>\n",
       "      <td>1995</td>\n",
       "      <td>eu</td>\n",
       "      <td>9.372561</td>\n",
       "    </tr>\n",
       "    <tr>\n",
       "      <th>19</th>\n",
       "      <td>1995</td>\n",
       "      <td>non-eu</td>\n",
       "      <td>5.286111</td>\n",
       "    </tr>\n",
       "  </tbody>\n",
       "</table>\n",
       "</div>"
      ],
      "text/plain": [
       "    year country_group  unemployment_rate\n",
       "0   1983            eu           8.243056\n",
       "1   1984            eu           8.532222\n",
       "2   1985            eu           8.475278\n",
       "3   1986            eu           8.861757\n",
       "4   1987            eu           8.746465\n",
       "5   1988            eu           7.845370\n",
       "6   1989            eu           7.145370\n",
       "7   1989        non-eu           5.219444\n",
       "8   1990            eu           6.731713\n",
       "9   1990        non-eu           5.616667\n",
       "10  1991            eu           7.371296\n",
       "11  1991        non-eu           5.838889\n",
       "12  1992            eu           8.416009\n",
       "13  1992        non-eu           6.352778\n",
       "14  1993            eu           9.592480\n",
       "15  1993        non-eu           6.383333\n",
       "16  1994            eu           9.832724\n",
       "17  1994        non-eu           5.811111\n",
       "18  1995            eu           9.372561\n",
       "19  1995        non-eu           5.286111"
      ]
     },
     "execution_count": 43,
     "metadata": {},
     "output_type": "execute_result"
    }
   ],
   "source": [
    "grouped_df = df_merge.groupby(['year', 'country_group'])['unemployment_rate'].mean().reset_index()\n",
    "grouped_df.head(20)"
   ]
  },
  {
   "cell_type": "markdown",
   "id": "b317b7ba",
   "metadata": {},
   "source": [
    "The code above creates the Data Frame `grouped_df`, as uses the `grouped_by` function on Country Group to allow for the average `unemployment_rate` to be calculated.\n",
    "\n",
    "The printed Data Frame above shows the `grouped_df` we created, we can also see that we have data for `eu` country groups from 1983 to 1988 where we do not have `non_eu` data. This will not allow for a clear comparison to run, so this data should be removed."
   ]
  },
  {
   "cell_type": "code",
   "execution_count": 63,
   "id": "3427fccb",
   "metadata": {},
   "outputs": [
    {
     "data": {
      "text/plain": [
       "<AxesSubplot:title={'center':'Unemployment Rate\\n'}, xlabel='Year'>"
      ]
     },
     "execution_count": 63,
     "metadata": {},
     "output_type": "execute_result"
    },
    {
     "data": {
      "image/png": "[encoded data removed]",
      "text/plain": [
       "<Figure size 640x480 with 1 Axes>"
      ]
     },
     "metadata": {},
     "output_type": "display_data"
    }
   ],
   "source": [
    "grouped_df = grouped_df[(grouped_df['year'] > 1988) ]\n",
    "grouped_df.rename(columns={'year' : 'Year','country_group' : 'CountryGroup','unemployment_rate' : 'UnemploymentRate'}, inplace=True)\n",
    "grouped_df = grouped_df.pivot(index='Year', columns='CountryGroup', values='UnemploymentRate')\n",
    "grouped_df.plot(title='Unemployment Rate\\n', color=['red','blue'])"
   ]
  },
  {
   "cell_type": "markdown",
   "id": "c7c87cf7",
   "metadata": {},
   "source": [
    "Due to the missing data, all EU data before 1988 was removed, to allow for a direct comparison. The data frame was plotted to pivot the once again renamed `Unemployment Rate` against that of the `Year`.\n",
    "\n",
    "The graph shows us of the low `Unemployment Rate` across `non_eu` countries until 2005 where they catch up with `eu` countries, since then the two have been similar until the `Unemployment Rate` has increased significantly again."
   ]
  },
  {
   "cell_type": "code",
   "execution_count": null,
   "id": "ef367b39",
   "metadata": {},
   "outputs": [],
   "source": []
  }
 ],
 "metadata": {
  "kernelspec": {
   "display_name": "Python 3 (ipykernel)",
   "language": "python",
   "name": "python3"
  },
  "language_info": {
   "codemirror_mode": {
    "name": "ipython",
    "version": 3
   },
   "file_extension": ".py",
   "mimetype": "text/x-python",
   "name": "python",
   "nbconvert_exporter": "python",
   "pygments_lexer": "ipython3",
   "version": "3.9.13"
  }
 },
 "nbformat": 4,
 "nbformat_minor": 5
}
